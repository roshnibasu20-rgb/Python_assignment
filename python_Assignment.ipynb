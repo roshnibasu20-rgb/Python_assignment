{
  "nbformat": 4,
  "nbformat_minor": 0,
  "metadata": {
    "colab": {
      "provenance": []
    },
    "kernelspec": {
      "name": "python3",
      "display_name": "Python 3"
    },
    "language_info": {
      "name": "python"
    }
  },
  "cells": [
    {
      "cell_type": "markdown",
      "source": [
        "# PYTHON"
      ],
      "metadata": {
        "id": "hXISsSFi3ZdZ"
      }
    },
    {
      "cell_type": "markdown",
      "source": [
        "**theory**\n",
        "\n",
        "Q-1.  What is Python, and why is it popular?\n",
        "   \n",
        "     = Python is a high-level, interpreted programming language known for its readability and simplicity. Guido van Rossum created it and first released it in 1991. The language is dynamically typed, meaning you don't need to declare a variable's type, and it uses indentation to define code blocks, which enforces a clean, consistent style.\n",
        "          \n",
        "   WHY IS IT POPULAR\n",
        "\n",
        "       Python's popularity stems from its versatility and ease of use. It has a large and active community that contributes to its vast collection of libraries and frameworks, making it a powerful tool for various applications.\n",
        "\n",
        "       . readability and simplicty: python's syntax is smililar to english which make it easy to beginners to learn the emphasis on clean code and readability reduces development and make it easier for teams to collaborate on projects.\n",
        "\n",
        "       * Extensive Libraries: Python has a huge standard library and thousands of third-party libraries for nearly any task, from web development to machine learning. Some popular libraries include NumPy for numerical computations, Pandas for data analysis, and Django for web development.\n",
        "\n",
        "       * Versatility: Python is a general-purpose language used in many different fields. Developers use it for web development, data science, artificial intelligence, machine learning, scientific computing, automation, and more. This broad applicability makes it a valuable skill for many different careers.\n",
        "\n",
        "       * Platform Independence: Python code can run on different operating systems like Windows, macOS, and Linux without needing to be rewritten. This \"write once, run anywhere\" philosophy makes it a great choice for cross-platform applications.\n",
        "\n",
        "       * Strong Community Support: Python has a massive and supportive global community. This community provides extensive documentation, tutorials, forums, and resources, making it easier for people to get help and learn the language.\n",
        "\n",
        "Q-2  What is an interpreter in Python?\n",
        "\n",
        "    = An interpreter in Python is a program that directly executes code written in Python. It reads and runs the code line by line, translating it into machine code that the computer's processor can understand and execute. This is different from a compiler, which translates the entire program into machine code at once before execution.\n",
        "\n",
        "        * Lexical Analysis: The interpreter breaks down the code into a series of tokens, which are the smallest meaningful units of the program (e.g., keywords, identifiers, and operators).\n",
        "\n",
        "        * Parsing: It then analyzes the tokens to build an abstract syntax tree (AST). The AST represents the grammatical structure of the code, much like a sentence diagram.\n",
        "        \n",
        "        * Code Compilation: The AST is then compiled into bytecode (a low-level, platform-independent set of instructions). This bytecode isn't machine code but is a simplified representation of the program.\n",
        "\n",
        "        *Execution: Finally, the Python Virtual Machine (PVM) executes this bytecode. The PVM is the runtime engine of the Python interpreter, and it's what runs the bytecode on your specific operating system and hardware.\n",
        "\n",
        "Q-3  What are pre-defined keywords in Python?\n",
        "\n",
        "   *  Pre-defined keywords in Python are a set of reserved words that have special meanings and functionalities. You can't use them for naming variables, functions, or any other identifiers. They're an essential part of the language's syntax and structure.\n",
        "     \n",
        "      Keywords, sometimes called reserved words, are fundamental building blocks of the Python programming language. Each keyword has a specific purpose and dictates the structure and flow of your code. For example, the keyword if is used for conditional statements, while def is used to define a function.\n",
        "\n",
        "\n",
        "You must be careful not to use any of these keywords as identifiers (names for variables, functions, classes, etc.), because doing so will lead to a syntax error.\n",
        "\n",
        "\n",
        "Q-4  Can keywords be used as variable names?\n",
        "\n",
        "  * No, keywords cannot be used as variable names in Python.\n",
        "   Keywords are reserved words that have special meanings and are an essential part of the Python language's syntax. Each keyword serves a specific purpose, such as defining a function (def), creating a loop (for), or handling conditional logic (if).\n",
        "\n",
        "If you try to use a keyword as a variable name, the Python interpreter will raise a SyntaxError because it won't be able to distinguish between the reserved keyword and the variable you're trying to define.\n",
        "\n",
        "\n",
        "Q-5 What is mutability in Python?\n",
        "  \n",
        "  * Mutability in Python refers to whether an object's state can be changed after it's created. If an object is mutable, you can modify its contents or attributes without creating a new object. If it's immutable, you can't change it; any \"modification\" actually creates a new object.\n",
        "   \n",
        "    * Mutable objects can be changed in place. This means you can add, remove, or modify elements directly. Common examples of mutable data types include\n",
        "\n",
        "\n",
        "Q-6 Why are lists mutable, but tuples are immutable?\n",
        "  \n",
        "  * Lists are designed to be dynamic collections of items. They are built for scenarios where you need to add, remove, or modify elements after the list has been created.  This mutability is achieved by storing the list's elements in a contiguous block of memory. When you change the list, the memory block is updated directly.\n",
        "\n",
        "A key feature of lists is their ability to grow or shrink. Operations like append(), insert(), or pop() directly alter the list's state in place without creating a new object.\n",
        "  Tuples, on the other hand, are designed to be static collections of items. Their purpose is to group related data that should not be changed. This immutability provides several benefits.\n",
        "\n",
        "Data Integrity: Immutability ensures that the tuple's contents remain constant, which is useful for data that shouldn't be altered, like coordinates or database records.\n",
        "\n",
        "Performance: Since tuples can't be changed, Python can optimize their storage and access. They are often faster to iterate over and consume less memory than lists.\n",
        "\n",
        "Dictionary Keys: Because their contents can't change, tuples are hashable and can be used as keys in a dictionary. Mutable objects like lists are not hashable and cannot be used as dictionary keys.  \n",
        "\n",
        "Q-7 What is the difference between “==” and “is” operators in Python?\n",
        "\n",
        "  * In Python, the == and is operators both check for equality, but they do so in different ways.\n",
        "\n",
        "== checks for value equality. It determines if the objects on both sides have the same value.\n",
        "\n",
        "is checks for identity equality. It determines if the objects on both sides are actually the same object in memory.\n",
        "\n",
        " * The == operator compares the values of two objects. It's the most common way to check if two things are equal.\n",
        "  \n",
        "   * list1 = [1, 2, 3]\n",
        "list2 = [1, 2, 3]\n",
        "\n",
        "print(list1 == list2)\n",
        "# Output: True\n",
        "# The lists have the same values, so they are considered equal.\n",
        "\n",
        "\n",
        "Q-8  What are logical operators in Python?\n",
        "  \n",
        "  * Logical operators in Python are used to combine conditional statements. They evaluate whether a statement is true or false and are crucial for controlling the flow of your program.\n",
        "\n",
        "  * The and Operator\n",
        "The and operator returns True if both operands are True. If either operand is False, the entire expression is False.\n",
        "\n",
        "  x = 5\n",
        "print(x > 3 and x < 10)  # Output: True\n",
        "# Both conditions are True.\n",
        "\n",
        "print(x > 3 and x > 10)  # Output: False\n",
        "# The second condition (x > 10) is False.\n",
        "\n",
        "Q-9  What is type casting in Python?\n",
        "\n",
        "  * Type casting, also known as type conversion, is the process of changing an object from one data type to another. For example, you can convert an integer into a string, or a float into an integer. Python provides built-in functions to perform these conversions.\n",
        "    \n",
        "     * Python provides several functions for type casting. The name of the function is the same as the name of the data type you want to convert to.\n",
        "\n",
        "  * int(): Converts a value to an integer. It will truncate any decimal part of a float.\n",
        "\n",
        "    x = 10.5\n",
        "y = int(x) # y is now 10\n",
        "\n",
        "s = \"25\"\n",
        "z = int(s) # z is now 25\n",
        "\n",
        "\n",
        "Q-10  What is the difference between implicit and explicit type casting?\n",
        "\n",
        "  * The difference between implicit and explicit type casting is based on whether the conversion happens automatically or is manually specified by the programmer.\n",
        "\n",
        "Implicit Type Conversion\n",
        "Implicit type conversion, also known as coercion, is performed automatically by Python without any user intervention. It happens when Python needs to combine data types that are compatible but have different levels of precision. To avoid data loss, Python converts the data from a lower-precision type to a higher-precision type.\n",
        "      \n",
        "\n",
        "      * Example:\n",
        "When you add an integer and a float, Python implicitly converts the integer into a float to perform the calculation. The result is a float, ensuring no data from the decimal part is lost.\n",
        "\n",
        "  * Explicit type conversion, also known as type casting, is when the programmer manually converts an object from one data type to another using built-in functions like int(), float(), or str(). This type of conversion is necessary when the data types are incompatible or when you want to control the output type to prevent data loss.\n",
        "\n",
        "Example:\n",
        "If you have a string that contains a number, you must explicitly convert it to an integer or float to perform mathematical operations.\n",
        "\n",
        " Q-11 What is the purpose of conditional statements in Python?\n",
        "   \n",
        "    *  The purpose of conditional statements in Python is to control the flow of your program. They allow you to execute different blocks of code based on whether a specific condition is True or False. This enables your program to make decisions and respond to different inputs or states.\n",
        "\n",
        " how thw work:\n",
        "\n",
        "  if: Executes a block of code only if the condition is True.\n",
        "\n",
        "elif (else if): Checks an additional condition if the preceding if or elif conditions were False. You can have multiple elif blocks.\n",
        "\n",
        "else: Executes a block of code if all preceding if and elif conditions were False.\n",
        "\n",
        "\n",
        "Q-12 How does the elif statement work?\n",
        "\n",
        " * The elif statement in programming is a conditional statement that stands for \"else if\". It's used in conjunction with the if statement to check for multiple conditions sequentially.\n",
        "\n",
        "  how it works:\n",
        "\n",
        "The elif statement is evaluated only when the preceding if statement (and any previous elif statements) evaluates to false. The program checks the if condition first. If that's true, it executes the code block associated with the if statement and completely skips the rest of the elif and else statements.\n",
        "\n",
        "If the if condition is false, the program then checks the first elif condition. If that's true, it executes the code block for that elif and then skips the rest. This process continues down the chain. The first elif condition that evaluates to true will have its code executed, and then the rest of the chain is ignored.\n",
        "\n",
        "Q-13 What is the difference between for and while loops?\n",
        "\n",
        " * A for loop is used when you know exactly how many times you want to iterate, or when you need to iterate over a sequence of items (like a list, tuple, or string). It's a \"definite\" loop because the number of iterations is predetermined before the loop starts. The syntax typically involves initializing a counter, defining a condition, and specifying a way to update the counter in a single, concise statement.\n",
        "\n",
        "Q-14  Describe a scenario where a while loop is more suitable than a for loop?\n",
        "\n",
        "   * A while loop is more suitable than a for loop in scenarios where the number of iterations is unknown and depends on a specific condition.\n",
        "\n",
        " Scenario: User Input Validation,\n",
        "   \n",
        "    Imagine you're writing a program that needs to repeatedly ask a user for a valid number until they provide one. You don't know in advance how many times the user will enter an invalid number. In this case, a while loop is the perfect choice.\n",
        "  \n",
        "  Why a while loop is better: Condition-based execution: The loop continues to run as long as the user's input is invalid. The condition for the loop is input_is_invalid, and it will terminate only when the condition becomes false (i.e., the user enters a valid number).\n",
        "\n",
        "Unknown iterations: You can't use a for loop because you don't know if the user will get it right on the first try or after ten tries. A for loop requires a predefined number of iterations or a sequence to iterate over, neither of which applies here.\n",
        "\n",
        "\n",
        "\n",
        "\n",
        "\n",
        "\n",
        "\n",
        "\n",
        "\n",
        "\n",
        "\n",
        "\n",
        "\n",
        "              \n",
        "\n",
        "\n",
        "\n",
        "    \n",
        "\n",
        "\n",
        "\n",
        "\n",
        "\n",
        "    \n",
        "\n",
        "  \n",
        "\n",
        "\n",
        "\n",
        "\n",
        "  \n",
        "    \n",
        "        \n",
        "\n",
        "  \n",
        "\n",
        "\n",
        "\n",
        "\n",
        "\n",
        "\n",
        "  \n",
        "\n",
        "\n",
        "\n",
        "\n",
        "    \n",
        "\n",
        "\n",
        "\n",
        "\n",
        "\n",
        "\n",
        "      \n",
        "        \n",
        "      \n",
        "\n",
        "      \n",
        "                 \n",
        "\n",
        "              \n",
        "            \n"
      ],
      "metadata": {
        "id": "5OyLOLns3S4y"
      }
    },
    {
      "cell_type": "markdown",
      "source": [
        "**practical of python**"
      ],
      "metadata": {
        "id": "EeDbvmxzmWbq"
      }
    },
    {
      "cell_type": "markdown",
      "source": [
        "Write a Python program to print \"Hello, World!\""
      ],
      "metadata": {
        "id": "wFIcUaLuzCRp"
      }
    },
    {
      "cell_type": "code",
      "source": [
        "print(\"hello world\")"
      ],
      "metadata": {
        "colab": {
          "base_uri": "https://localhost:8080/"
        },
        "id": "qL0Cw0SvzpVJ",
        "outputId": "a99a42fb-11a3-49a4-dd32-61f38cc1e8dc"
      },
      "execution_count": null,
      "outputs": [
        {
          "output_type": "stream",
          "name": "stdout",
          "text": [
            "hello world\n"
          ]
        }
      ]
    },
    {
      "cell_type": "markdown",
      "source": [
        "Q-2 Write a Python program that displays your name and age"
      ],
      "metadata": {
        "id": "nrdAZi7R0Nzl"
      }
    },
    {
      "cell_type": "code",
      "source": [
        "print(f\"my name is Suraj and iam 20 years old.\")"
      ],
      "metadata": {
        "colab": {
          "base_uri": "https://localhost:8080/"
        },
        "id": "MOerH0jP0Xsb",
        "outputId": "0905d05d-bd8d-4929-f210-5dced86e952f"
      },
      "execution_count": null,
      "outputs": [
        {
          "output_type": "stream",
          "name": "stdout",
          "text": [
            "my name is Suraj and iam 20 years old.\n"
          ]
        }
      ]
    },
    {
      "cell_type": "markdown",
      "source": [
        "Q-3 Write code to print all the pre-defined keywords in Python using the keyword library."
      ],
      "metadata": {
        "id": "Yaw3F2Vh2EWD"
      }
    },
    {
      "cell_type": "code",
      "source": [
        "import keyword\n",
        "print(\"pre-defined keywords in python are:\")\n",
        "print(keyword.kwlist)"
      ],
      "metadata": {
        "colab": {
          "base_uri": "https://localhost:8080/"
        },
        "id": "3EG_J-DJ52WM",
        "outputId": "89cc7ce3-932b-4c9e-ddae-0676a0a2346d"
      },
      "execution_count": null,
      "outputs": [
        {
          "output_type": "stream",
          "name": "stdout",
          "text": [
            "pre-defined keywords in python are:\n",
            "['False', 'None', 'True', 'and', 'as', 'assert', 'async', 'await', 'break', 'class', 'continue', 'def', 'del', 'elif', 'else', 'except', 'finally', 'for', 'from', 'global', 'if', 'import', 'in', 'is', 'lambda', 'nonlocal', 'not', 'or', 'pass', 'raise', 'return', 'try', 'while', 'with', 'yield']\n"
          ]
        }
      ]
    },
    {
      "cell_type": "markdown",
      "source": [
        "Q-4 Write a program that checks if a given word is a Python keyword."
      ],
      "metadata": {
        "id": "tA24yUbO6o9s"
      }
    },
    {
      "cell_type": "code",
      "source": [
        "import keyword\n",
        "print(\"check if given else  keyword is python keyword and print the result\")\n"
      ],
      "metadata": {
        "colab": {
          "base_uri": "https://localhost:8080/"
        },
        "id": "Ut_WRzgF66OU",
        "outputId": "33124608-93b6-446f-8632-67934637d6da"
      },
      "execution_count": null,
      "outputs": [
        {
          "output_type": "stream",
          "name": "stdout",
          "text": [
            "check if given else  keyword is python keyword and print the result\n"
          ]
        }
      ]
    },
    {
      "cell_type": "markdown",
      "source": [
        "Q-5  Create a list and tuple in Python, and demonstrate how attempting to change an element works differently\n",
        "for each."
      ],
      "metadata": {
        "id": "O3pv6nwF9N9v"
      }
    },
    {
      "cell_type": "code",
      "source": [
        "# create a list using square brackets\n",
        "my_list = ['apple','banana','cherry']\n",
        "my_tuple = ('apple','banana','cherry')\n",
        "\n",
        "# change the second elements of the list\n",
        "my_list[1] = 'mango'\n",
        "print(my_list)\n",
        "# output:['apple',\"mango\",\"cherry\"]\n",
        "\n",
        "# Attempt to change an element in the tuple\n",
        "try:\n",
        "  my_tuple1 = (\"mango\")\n",
        "except TypeError as e:\n",
        "  print(f\"Error: {e}\")"
      ],
      "metadata": {
        "id": "rLr2uNtX9YbC",
        "colab": {
          "base_uri": "https://localhost:8080/"
        },
        "outputId": "7124c2bf-2377-45ed-dfe3-4710a9fdedf0"
      },
      "execution_count": null,
      "outputs": [
        {
          "output_type": "stream",
          "name": "stdout",
          "text": [
            "['apple', 'mango', 'cherry']\n"
          ]
        }
      ]
    },
    {
      "cell_type": "markdown",
      "source": [
        "Q-6  Write a function to demonstrate the behavior of mutable and immutable arguments\n"
      ],
      "metadata": {
        "id": "kSzVc-6SF93E"
      }
    },
    {
      "cell_type": "code",
      "source": [
        "def modify_arguments(immutable_arg, mutable_arg):\n",
        "    \"\"\"\n",
        "    This function demonstrates the behavior of mutable and immutable arguments.\n",
        "\n",
        "    Args:\n",
        "        immutable_arg: An immutable object (like an integer).\n",
        "        mutable_arg: A mutable object (like a list).\n",
        "    \"\"\"\n",
        "    print(\"--- Inside the function ---\")\n",
        "\n",
        "    # Attempt to modify the immutable argument\n",
        "    # This creates a new integer object, it does not change the original one\n",
        "    print(f\"Initial immutable argument value: {immutable_arg}\")\n",
        "    immutable_arg += 10\n",
        "    print(f\"Modified immutable argument value: {immutable_arg}\")\n",
        "\n",
        "    # Modify the mutable argument in-place\n",
        "    # This changes the original list object\n",
        "    print(f\"\\nInitial mutable argument value: {mutable_arg}\")\n",
        "    mutable_arg.append(\"new_item\")\n",
        "    mutable_arg[0] = \"changed_first_item\"\n",
        "    print(f\"Modified mutable argument value: {mutable_arg}\")\n",
        "\n",
        "    print(\"--- Function complete ---\")\n",
        "\n",
        "\n",
        "# --- Main program ---\n",
        "\n",
        "# Create an immutable integer and a mutable list\n",
        "my_int = 5\n",
        "my_list = ['item1', 'item2', 'item3']\n",
        "\n",
        "print(\"--- Before the function call ---\")\n",
        "print(f\"Original integer: {my_int}\")\n",
        "print(f\"Original list: {my_list}\")\n",
        "\n",
        "# Call the function with our variables\n",
        "modify_arguments(my_int, my_list)\n",
        "\n",
        "print(\"\\n--- After the function call ---\")\n",
        "print(f\"Integer after function call: {my_int}\")\n",
        "print(f\"List after function call: {my_list}\")\n"
      ],
      "metadata": {
        "colab": {
          "base_uri": "https://localhost:8080/"
        },
        "id": "M_82L-FtKiSN",
        "outputId": "48652ed7-962f-4c6f-bee7-5e59fefb7918"
      },
      "execution_count": null,
      "outputs": [
        {
          "output_type": "stream",
          "name": "stdout",
          "text": [
            "--- Before the function call ---\n",
            "Original integer: 5\n",
            "Original list: ['item1', 'item2', 'item3']\n",
            "--- Inside the function ---\n",
            "Initial immutable argument value: 5\n",
            "Modified immutable argument value: 15\n",
            "\n",
            "Initial mutable argument value: ['item1', 'item2', 'item3']\n",
            "Modified mutable argument value: ['changed_first_item', 'item2', 'item3', 'new_item']\n",
            "--- Function complete ---\n",
            "\n",
            "--- After the function call ---\n",
            "Integer after function call: 5\n",
            "List after function call: ['changed_first_item', 'item2', 'item3', 'new_item']\n"
          ]
        }
      ]
    },
    {
      "cell_type": "markdown",
      "source": [
        "Q-7 Write a program that performs basic arithmetic operations on two user-input numbers"
      ],
      "metadata": {
        "id": "_DE2jND4MUZv"
      }
    },
    {
      "cell_type": "code",
      "source": [
        " # A simple program to perform basic arithmetic operations.\n",
        "\n",
        "# Use a function to encapsulate the logic for better organization.\n",
        "def basic_calculator():\n",
        "    \"\"\"\n",
        "    Prompts the user for two numbers and an operator, then calculates and prints the result.\n",
        "    \"\"\"\n",
        "    print(\"Welcome to the basic arithmetic calculator!\")\n",
        "\n",
        "    # Get the first number from the user.\n",
        "    try:\n",
        "        num1 = float(input(\"Enter the first number: \"))\n",
        "    except ValueError:\n",
        "        print(\"Invalid input. Please enter a valid number.\")\n",
        "        return # Exit the function if the input is not a number.\n",
        "\n",
        "    # Get the second number from the user.\n",
        "    try:\n",
        "        num2 = float(input(\"Enter the second number: \"))\n",
        "    except ValueError:\n",
        "        print(\"Invalid input. Please enter a valid number.\")\n",
        "        return # Exit the function if the input is not a number.\n",
        "\n",
        "    # Get the arithmetic operator from the user.\n",
        "    operator = input(\"Enter an operator (+, -, *, /): \")\n",
        "\n",
        "    result = None\n",
        "\n",
        "    # Perform the calculation based on the operator.\n",
        "    if operator == '+':\n",
        "        result = num1 + num2\n",
        "    elif operator == '-':\n",
        "        result = num1 - num2\n",
        "    elif operator == '*':\n",
        "        result = num1 * num2\n",
        "    elif operator == '/':\n",
        "        # Handle division by zero to prevent an error.\n",
        "        if num2 != 0:\n",
        "            result = num1 / num2\n",
        "        else:\n",
        "            print(\"Error: Cannot divide by zero.\")\n",
        "            return\n",
        "    else:\n",
        "        print(\"Invalid operator. Please use one of the following: +, -, *, /\")\n",
        "        return\n",
        "\n",
        "    # Print the final result.\n",
        "    print(f\"The result is: {num1} {operator} {num2} = {result}\")\n",
        "\n",
        "# Call the function to run the program.\n",
        "if __name__ == \"__main__\":\n",
        "    basic_calculator()\n"
      ],
      "metadata": {
        "id": "s13KAZ-SMhNv"
      },
      "execution_count": null,
      "outputs": []
    },
    {
      "cell_type": "markdown",
      "source": [
        "Q-8  Write a program to demonstrate the use of logical operators."
      ],
      "metadata": {
        "id": "dI_bXaJJWmV7"
      }
    },
    {
      "cell_type": "code",
      "source": [
        "# This program demonstrates the use of logical operators: and, or, and not.\n",
        "\n",
        "print(\"--- Demonstrating Logical Operators ---\")\n",
        "\n",
        "# Let's define some boolean variables to use in our examples.\n",
        "is_student = True\n",
        "has_coupon = False\n",
        "age = 20\n",
        "has_id = True\n",
        "\n",
        "# 1. The 'and' operator\n",
        "# The 'and' operator returns True only if BOTH conditions are True.\n",
        "# In this case, 'is_student' is True, but 'has_coupon' is False.\n",
        "print(\"\\n--- 'and' operator ---\")\n",
        "if is_student and has_coupon:\n",
        "    print(\"You qualify for the student discount and the coupon.\")\n",
        "else:\n",
        "    print(\"You do not qualify for both the student discount AND the coupon.\")\n",
        "\n",
        "# 2. The 'or' operator\n",
        "# The 'or' operator returns True if at least ONE of the conditions is True.\n",
        "# In this case, 'is_student' is True, so the condition is met.\n",
        "print(\"\\n--- 'or' operator ---\")\n",
        "if is_student or has_coupon:\n",
        "    print(\"You qualify for either the student discount OR the coupon.\")\n",
        "else:\n",
        "    print(\"You don't have a student ID or a coupon.\")\n",
        "\n",
        "# 3. The 'not' operator\n",
        "# The 'not' operator reverses the boolean value of a condition.\n",
        "# Since 'has_coupon' is False, 'not has_coupon' becomes True.\n",
        "print(\"\\n--- 'not' operator ---\")\n",
        "if not has_coupon:\n",
        "    print(\"Since you don't have a coupon, a new one has been applied.\")\n",
        "    has_coupon = True # We can update the variable here.\n",
        "    print(f\"Coupon status is now: {has_coupon}\")\n",
        "else:\n",
        "    print(\"You already have a coupon.\")\n",
        "\n",
        "# 4. Combining logical operators\n",
        "# You can use parentheses to control the order of operations.\n",
        "# Let's check if the person is old enough AND is either a student OR has an ID.\n",
        "print(\"\\n--- Combined operators ---\")\n",
        "if age >= 18 and (is_student or has_id):\n",
        "    print(\"You meet the age requirement and have a valid form of identification.\")\n",
        "else:\n",
        "    print(\"You do not meet the criteria for entry.\")\n",
        "\n",
        "print(\"\\n--- End of demonstration ---\")\n"
      ],
      "metadata": {
        "id": "Ja8Bz1EEWxgQ"
      },
      "execution_count": null,
      "outputs": []
    },
    {
      "cell_type": "markdown",
      "source": [
        "Q-9  Write a Python program to convert user input from string to integer, float, and boolean types."
      ],
      "metadata": {
        "id": "3po7VdOGYblR"
      }
    },
    {
      "cell_type": "code",
      "source": [
        "def convert_input(user_input):\n",
        "    # Try to convert to integer\n",
        "    try:\n",
        "        int_value = int(user_input)\n",
        "    except ValueError:\n",
        "        int_value = \"Invalid integer\"\n",
        "\n",
        "    # Try to convert to float\n",
        "    try:\n",
        "        float_value = float(user_input)\n",
        "    except ValueError:\n",
        "        float_value = \"Invalid float\"\n",
        "\n",
        "    # Convert to boolean using common truthy/falsy values\n",
        "    true_values = ['true', '1', 'yes', 'on']\n",
        "    false_values = ['false', '0', 'no', 'off']\n",
        "\n",
        "    input_lower = user_input.strip().lower()\n",
        "    if input_lower in true_values:\n",
        "        bool_value = True\n",
        "    elif input_lower in false_values:\n",
        "        bool_value = False\n",
        "    else:\n",
        "        bool_value = \"Invalid boolean\"\n",
        "\n",
        "    # Display results\n",
        "    print(f\"Original input: {user_input}\")\n",
        "    print(f\"Integer: {int_value}\")\n",
        "    print(f\"Float: {float_value}\")\n",
        "    print(f\"Boolean: {bool_value}\")\n",
        "\n",
        "\n"
      ],
      "metadata": {
        "id": "MEVl9dcZZwQ8"
      },
      "execution_count": null,
      "outputs": []
    },
    {
      "cell_type": "markdown",
      "source": [
        "Q-10  Write code to demonstrate type casting with list elements."
      ],
      "metadata": {
        "id": "fnfq3w8pdGDX"
      }
    },
    {
      "cell_type": "code",
      "source": [
        "# --- Example 1: Casting a list of strings to integers ---\n",
        "\n",
        "# Create a list of string elements\n",
        "string_numbers = ['1', '2', '3', '4', '5']\n",
        "\n",
        "print(\"Original list of strings:\")\n",
        "print(f\"List: {string_numbers}\")\n",
        "print(f\"Data type of first element: {type(string_numbers[0])}\\n\")\n",
        "\n",
        "# Create a new list to hold the integers\n",
        "integer_numbers = []\n",
        "\n",
        "# Iterate through the original list and cast each element\n",
        "for s in string_numbers:\n",
        "    integer_numbers.append(int(s))\n",
        "\n",
        "print(\"New list after casting to integers:\")\n",
        "print(f\"List: {integer_numbers}\")\n",
        "print(f\"Data type of first element: {type(integer_numbers[0])}\\n\")\n",
        "\n",
        "\n",
        "# --- Example 2: Casting a list of integers to floats ---\n",
        "\n",
        "# Use the list from the previous example\n",
        "print(\"Original list of integers:\")\n",
        "print(f\"List: {integer_numbers}\")\n",
        "print(f\"Data type of first element: {type(integer_numbers[0])}\\n\")\n",
        "\n",
        "# A more concise way to perform type casting using a list comprehension\n",
        "float_numbers = [float(i) for i in integer_numbers]\n",
        "\n",
        "print(\"New list after casting to floats:\")\n",
        "print(f\"List: {float_numbers}\")\n",
        "print(f\"Data type of first element: {type(float_numbers[0])}\")\n"
      ],
      "metadata": {
        "colab": {
          "base_uri": "https://localhost:8080/"
        },
        "id": "6TPcOpsqdVs7",
        "outputId": "336014d3-7f9a-4b5c-8bd9-1f1e8d9292b2"
      },
      "execution_count": null,
      "outputs": [
        {
          "output_type": "stream",
          "name": "stdout",
          "text": [
            "Original list of strings:\n",
            "List: ['1', '2', '3', '4', '5']\n",
            "Data type of first element: <class 'str'>\n",
            "\n",
            "New list after casting to integers:\n",
            "List: [1, 2, 3, 4, 5]\n",
            "Data type of first element: <class 'int'>\n",
            "\n",
            "Original list of integers:\n",
            "List: [1, 2, 3, 4, 5]\n",
            "Data type of first element: <class 'int'>\n",
            "\n",
            "New list after casting to floats:\n",
            "List: [1.0, 2.0, 3.0, 4.0, 5.0]\n",
            "Data type of first element: <class 'float'>\n"
          ]
        }
      ]
    },
    {
      "cell_type": "markdown",
      "source": [
        "Q-11 Write a program that checks if a number is positive, negative, or zero."
      ],
      "metadata": {
        "id": "YFwg9suYgjwS"
      }
    },
    {
      "cell_type": "code",
      "source": [
        "# A simple Python program to check if a number is positive, negative, or zero.\n",
        "\n",
        "def check_number(number):\n",
        "  \"\"\"\n",
        "  Checks a given number and prints whether it is positive, negative, or zero.\n",
        "\n",
        "  Args:\n",
        "    number: The number to be checked.\n",
        "  \"\"\"\n",
        "  # Check if the number is greater than 0\n",
        "  if number > 0:\n",
        "    print(f\"The number {number} is positive.\")\n",
        "  # Check if the number is less than 0\n",
        "  elif number < 0:\n",
        "    print(f\"The number {number} is negative.\")\n",
        "  # If it's not positive or negative, it must be zero\n",
        "  else:\n",
        "    print(f\"The number {number} is zero.\")\n",
        "\n",
        "# --- Examples ---\n",
        "# You can change the numbers below to test different values.\n",
        "\n",
        "# Test with a positive number\n",
        "check_number(10)\n",
        "\n",
        "# Test with a negative number\n",
        "check_number(-5)\n",
        "\n",
        "# Test with zero\n",
        "check_number(0)\n",
        "\n",
        "# Test with a floating-point number\n",
        "check_number(3.14)\n"
      ],
      "metadata": {
        "colab": {
          "base_uri": "https://localhost:8080/"
        },
        "id": "p-SR83smlgbb",
        "outputId": "534e3fe0-f70f-40fb-fa26-9c98413e7dda"
      },
      "execution_count": null,
      "outputs": [
        {
          "output_type": "stream",
          "name": "stdout",
          "text": [
            "The number 10 is positive.\n",
            "The number -5 is negative.\n",
            "The number 0 is zero.\n",
            "The number 3.14 is positive.\n"
          ]
        }
      ]
    },
    {
      "cell_type": "markdown",
      "source": [
        "Q-12 Write a for loop to print numbers from 1 to 10."
      ],
      "metadata": {
        "id": "IpS2UXhtl8y1"
      }
    },
    {
      "cell_type": "code",
      "source": [
        "# This program uses a for loop to print numbers from 1 to 10.\n",
        "\n",
        "# The range(1, 11) function generates a sequence of numbers starting at 1\n",
        "# and ending at 10 (the second argument is exclusive).\n",
        "for number in range(1, 11):\n",
        "  # This line prints the current number in the sequence.\n",
        "  print(number)\n"
      ],
      "metadata": {
        "colab": {
          "base_uri": "https://localhost:8080/"
        },
        "id": "rSwxZFAQmKhR",
        "outputId": "96124e9d-6923-41f9-ae40-d87cc0cb8538"
      },
      "execution_count": null,
      "outputs": [
        {
          "output_type": "stream",
          "name": "stdout",
          "text": [
            "1\n",
            "2\n",
            "3\n",
            "4\n",
            "5\n",
            "6\n",
            "7\n",
            "8\n",
            "9\n",
            "10\n"
          ]
        }
      ]
    },
    {
      "cell_type": "markdown",
      "source": [
        "Q-13 Write a Python program to find the sum of all even numbers between 1 and 50."
      ],
      "metadata": {
        "id": "g8ouGh5rmiVg"
      }
    },
    {
      "cell_type": "code",
      "source": [
        "# Initialize a variable to store the sum.\n",
        "total_sum = 0\n",
        "\n",
        "# Loop through numbers from 1 to 50.\n",
        "# The `range(1, 51)` function generates numbers up to, but not including, 51.\n",
        "for number in range(1, 51):\n",
        "  # Check if the number is even using the modulo operator (%).\n",
        "  # A number is even if the remainder when divided by 2 is 0.\n",
        "  if number % 2 == 0:\n",
        "    # If the number is even, add it to the total sum.\n",
        "    total_sum += number\n",
        "\n",
        "# After the loop finishes, print the final sum.\n",
        "print(f\"The sum of all even numbers between 1 and 50 is: {total_sum}\")"
      ],
      "metadata": {
        "colab": {
          "base_uri": "https://localhost:8080/"
        },
        "id": "vceDPVS-mqfa",
        "outputId": "c1f4caf2-f63d-48cf-d7d0-2be5bcedf28c"
      },
      "execution_count": null,
      "outputs": [
        {
          "output_type": "stream",
          "name": "stdout",
          "text": [
            "The sum of all even numbers between 1 and 50 is: 650\n"
          ]
        }
      ]
    },
    {
      "cell_type": "markdown",
      "source": [
        "Q-14 Write a program to reverse a string using a while loop."
      ],
      "metadata": {
        "id": "tKDrE_GqnU5z"
      }
    },
    {
      "cell_type": "code",
      "source": [
        "# A program to reverse a string using a while loop.\n",
        "\n",
        "def reverse_string_with_while(input_string):\n",
        "  \"\"\"\n",
        "  Reverses a string using a while loop.\n",
        "\n",
        "  Args:\n",
        "    input_string: The string to be reversed.\n",
        "\n",
        "  Returns:\n",
        "    The reversed string.\n",
        "  \"\"\"\n",
        "  # Initialize an empty string to store the reversed characters.\n",
        "  reversed_string = \"\"\n",
        "\n",
        "  # Get the index of the last character.\n",
        "  # The length of the string is 'n', so the last index is 'n-1'.\n",
        "  index = len(input_string) - 1\n",
        "\n",
        "  # Use a while loop to iterate from the last character to the first.\n",
        "  while index >= 0:\n",
        "    # Append the character at the current index to the new string.\n",
        "    reversed_string += input_string[index]\n",
        "\n",
        "    # Move to the previous character.\n",
        "    index -= 1\n",
        "\n",
        "  return reversed_string\n",
        "\n",
        "# --- Example ---\n",
        "my_string = \"Hello, world!\"\n",
        "reversed_result = reverse_string_with_while(my_string)\n",
        "\n",
        "print(f\"Original string: {my_string}\")\n",
        "print(f\"Reversed string: {reversed_result}\")\n"
      ],
      "metadata": {
        "colab": {
          "base_uri": "https://localhost:8080/"
        },
        "id": "EIF7WQuknfbP",
        "outputId": "f3fbfc5d-721f-45ce-b1cc-1d61cc8d1970"
      },
      "execution_count": null,
      "outputs": [
        {
          "output_type": "stream",
          "name": "stdout",
          "text": [
            "Original string: Hello, world!\n",
            "Reversed string: !dlrow ,olleH\n"
          ]
        }
      ]
    },
    {
      "cell_type": "markdown",
      "source": [
        "Q-15 Write a Python program to calculate the factorial of a number provided by the user using a while loop."
      ],
      "metadata": {
        "id": "kwpBVw5pnpyR"
      }
    },
    {
      "cell_type": "markdown",
      "source": [],
      "metadata": {
        "id": "CQhKqgNT6hR5"
      }
    },
    {
      "cell_type": "code",
      "source": [
        "# Program to calculate the factorial of a number using a while loop\n",
        "\n",
        "# Get input from the user\n",
        "num = int(input(\"Enter a non-negative integer: \"))\n",
        "\n",
        "# Check if the input is negative\n",
        "if num < 0:\n",
        "    print(\"Factorial is not defined for negative numbers.\")\n",
        "else:\n",
        "    factorial = 1\n",
        "    i = 1\n",
        "\n",
        "    while i <= num:\n",
        "        factorial *= i\n",
        "        i += 1\n",
        "\n",
        "    print(f\"The factorial of {num} is {factorial}.\")\n"
      ],
      "metadata": {
        "id": "oP3l16L-0P8x"
      },
      "execution_count": null,
      "outputs": []
    }
  ]
}